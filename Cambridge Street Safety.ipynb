{
 "cells": [
  {
   "cell_type": "code",
   "execution_count": null,
   "metadata": {},
   "outputs": [],
   "source": [
    "import numpy as np\n",
    "import pandas as pd\n",
    "from datetime import datetime\n",
    "\n",
    "# visualization\n",
    "import matplotlib.pyplot as plt\n",
    "%matplotlib inline\n",
    "from ggplot import *\n",
    "plt.style.use('ggplot') \n",
    "\n",
    "import seaborn as sns\n",
    "\n",
    "# for maps\n",
    "from mapboxgl.utils import *\n",
    "from mapboxgl.viz import *\n",
    "import geojson"
   ]
  },
  {
   "cell_type": "markdown",
   "metadata": {},
   "source": [
    "# Load the data"
   ]
  },
  {
   "cell_type": "code",
   "execution_count": null,
   "metadata": {},
   "outputs": [],
   "source": [
    "file_path_historical = './data/Police_Department_Crash_Data_-_Historical.csv'\n",
    "file_path_updated = './data/Police_Department_Crash_Data_-_Updated.csv'\n",
    "\n",
    "data_historical = pd.read_csv(file_path_historical)\n",
    "data_updated = pd.read_csv(file_path_updated)"
   ]
  },
  {
   "cell_type": "markdown",
   "metadata": {},
   "source": [
    "# Data wrangling"
   ]
  },
  {
   "cell_type": "code",
   "execution_count": null,
   "metadata": {},
   "outputs": [],
   "source": [
    "# Fix column names to match across datasets\n",
    "data_historical = data_historical.rename(columns={\"Day Of Week\": \"Day of Week\", \"Steet Name\": \"Street Name\"})"
   ]
  },
  {
   "cell_type": "code",
   "execution_count": null,
   "metadata": {},
   "outputs": [],
   "source": [
    "# Extract coordinates for each crash location\n",
    "data_historical = data_historical.dropna(subset=['Latitude', 'Longitude'])\n",
    "# If coordinates don't exist drop row\n",
    "data_historical = data_historical.drop(columns=['Coordinates'])\n",
    "# Drop duplicates, need to specify columns to match against because there are slight variations for some reason\n",
    "data_historical = data_historical.drop_duplicates(subset=['Date Time', 'Day of Week', 'Object 1', 'Object 2'])"
   ]
  },
  {
   "cell_type": "code",
   "execution_count": null,
   "metadata": {},
   "outputs": [],
   "source": [
    "# Drop rows without location\n",
    "data_updated = data_updated.dropna(subset=['Location'])\n",
    "# Drop rows without coordinates (these just use city center)\n",
    "data_updated = data_updated.drop(data_updated[data_updated['Location'].apply(lambda x: len(x.split('\\n')) != 3)].index)\n",
    "# Create Coordinate column\n",
    "data_updated['Coordinates'] = data_updated['Location'].apply(lambda x: x.split('\\n')[2])\n",
    "# Create Latitude and Longitude columns\n",
    "data_updated['Latitude'] = data_updated['Coordinates'].apply(lambda x: float(x.split(',')[0].replace('(', '')))\n",
    "data_updated['Longitude'] = data_updated['Coordinates'].apply(lambda x: float(x.split(',')[1].replace(')', '')))\n",
    "# Drop the no longer needed Coordinates column\n",
    "data_updated = data_updated.drop(columns=['Coordinates'])\n",
    "# Drop duplicates, need to specify columns to match against because there are slight variations for some reason\n",
    "data_updated = data_updated.drop_duplicates(subset=['Date Time', 'Day of Week', 'Object 1', 'Object 2'])"
   ]
  },
  {
   "cell_type": "code",
   "execution_count": null,
   "metadata": {},
   "outputs": [],
   "source": [
    "# Combine datasets\n",
    "data = pd.concat([data_historical, data_updated], ignore_index=True)"
   ]
  },
  {
   "cell_type": "code",
   "execution_count": null,
   "metadata": {},
   "outputs": [],
   "source": [
    "# Filter for only the interesting and filled in data\n",
    "data = data[['Date Time', 'Day of Week', 'Object 1', 'Object 2', 'Street Number', 'Street Name', 'Cross Street', 'Location', 'Latitude', 'Longitude', 'May Involve Pedestrian', 'May involve cyclist']]"
   ]
  },
  {
   "cell_type": "code",
   "execution_count": null,
   "metadata": {},
   "outputs": [],
   "source": [
    "# Remove duplicates\n",
    "# Caused by the two datasets overlapped reporting and lousy data\n",
    "# Need to specify columns to match against because there are slight variations between the two datasets\n",
    "# Keep the last rather than first since the updated dataset is more detailed, but worse coordinates\n",
    "# data = data.drop_duplicates(subset=['Date Time', 'Day of Week', 'Object 1', 'Object 2'], keep='last')\n",
    "data = data.groupby('Date Time').agg({\n",
    "    'Day of Week': 'last',\n",
    "    'Object 1': 'last',\n",
    "    'Object 2': 'last',\n",
    "    'Street Number': 'last',\n",
    "    'Street Name': 'last',\n",
    "    'Cross Street': 'last',\n",
    "    'Location': 'first',\n",
    "    'Latitude': 'first',\n",
    "    'Longitude': 'first',\n",
    "    'May Involve Pedestrian': 'last',\n",
    "    'May involve cyclist': 'last'\n",
    "}).reset_index()"
   ]
  },
  {
   "cell_type": "code",
   "execution_count": null,
   "metadata": {},
   "outputs": [],
   "source": [
    "# Convert data types for easier analysis\n",
    "data['Date Time'] = data['Date Time'].apply(lambda x: pd.to_datetime(x))\n",
    "# Create new columns for analysis\n",
    "data['Coordinates'] = data.apply(lambda x: str(x[\"Latitude\"]) + ',' + str(x[\"Longitude\"]), axis=1)\n",
    "data['Hour of Day'] = data['Date Time'].apply(lambda x: x.hour)\n",
    "data['Year'] = data['Date Time'].apply(lambda x: x.year)\n",
    "data['Month of Year'] = data['Date Time'].apply(lambda x: x.month)\n",
    "data['Objects Involved'] = data.apply(lambda x: str(x[\"Object 1\"]) + '-' + str(x[\"Object 2\"]), axis=1)\n",
    "data['Bicycle Involved'] = data.apply(lambda x: (x['Object 1'] == 'Bicycle') | (x['Object 2'] == 'Bicycle') | (x['May involve cyclist'] == True), axis=1)\n",
    "data['Pedestrian Involved'] = data.apply(lambda x: (x['Object 1'] == 'Pedestrian') | (x['Object 2'] == 'Pedestrian') | (x['May Involve Pedestrian'] == True), axis=1)\n",
    "data['No Bike or Pedestrian Involved'] = data.apply(lambda x: (x['Bicycle Involved'] == False) and (x['Pedestrian Involved'] == False), axis=1)\n",
    "data['Date'] = data['Date Time'].apply(lambda x: pd.to_datetime(x.date()))"
   ]
  },
  {
   "cell_type": "markdown",
   "metadata": {},
   "source": [
    "# Analysis"
   ]
  },
  {
   "cell_type": "markdown",
   "metadata": {},
   "source": [
    "### Interesting questions\n",
    "* Where did the accidents take place?\n",
    "* Who were they between? Bicycles? Pedestrians?\n",
    "* What time of day/day of week?\n",
    "* Did they increase/decrease over time? Per location?\n",
    "* Look at variables that could have made a difference (junction type, surface condition, street vs intersection, weather condition)"
   ]
  },
  {
   "cell_type": "markdown",
   "metadata": {},
   "source": [
    "## Where do accidents take place?"
   ]
  },
  {
   "cell_type": "code",
   "execution_count": null,
   "metadata": {},
   "outputs": [],
   "source": [
    "location_groups = data.groupby(['Latitude', 'Longitude'])\n",
    "locations_df = location_groups.size().to_frame(name='# of accidents').reset_index()"
   ]
  },
  {
   "cell_type": "code",
   "execution_count": null,
   "metadata": {},
   "outputs": [],
   "source": [
    "locations_df.sort_values(by=['# of accidents'], ascending=False).head()"
   ]
  },
  {
   "cell_type": "markdown",
   "metadata": {},
   "source": [
    "## Who are they between?"
   ]
  },
  {
   "cell_type": "code",
   "execution_count": null,
   "metadata": {},
   "outputs": [],
   "source": [
    "object_groups = data.groupby(['Objects Involved'])\n",
    "objects_df = object_groups.size().to_frame(name='# of accidents').reset_index()"
   ]
  },
  {
   "cell_type": "code",
   "execution_count": null,
   "metadata": {},
   "outputs": [],
   "source": [
    "objects_df.sort_values(by=['# of accidents'], ascending=False).head(15)"
   ]
  },
  {
   "cell_type": "markdown",
   "metadata": {},
   "source": [
    "#### Bicycles"
   ]
  },
  {
   "cell_type": "code",
   "execution_count": null,
   "metadata": {},
   "outputs": [],
   "source": [
    "bicycle_data = data[(data['Bicycle Involved'] == True)]\n",
    "bicycle_groups = bicycle_data.groupby(['Objects Involved'])\n",
    "bicycles_df = bicycle_groups.size().to_frame(name='# of accidents').reset_index()"
   ]
  },
  {
   "cell_type": "code",
   "execution_count": null,
   "metadata": {},
   "outputs": [],
   "source": [
    "bicycles_df.sort_values(by=['# of accidents'], ascending=False).head(15)"
   ]
  },
  {
   "cell_type": "markdown",
   "metadata": {},
   "source": [
    "#### Pedestrians"
   ]
  },
  {
   "cell_type": "code",
   "execution_count": null,
   "metadata": {},
   "outputs": [],
   "source": [
    "pedestrian_data = data[(data['Pedestrian Involved'] == True)]\n",
    "pedestrian_groups = pedestrian_data.groupby(['Objects Involved'])\n",
    "pedestrians_df = pedestrian_groups.size().to_frame(name='# of accidents').reset_index()"
   ]
  },
  {
   "cell_type": "code",
   "execution_count": null,
   "metadata": {},
   "outputs": [],
   "source": [
    "pedestrians_df.sort_values(by=['# of accidents'], ascending=False).head(15)"
   ]
  },
  {
   "cell_type": "markdown",
   "metadata": {},
   "source": [
    "## When do accidents take place?"
   ]
  },
  {
   "cell_type": "markdown",
   "metadata": {},
   "source": [
    "### Day of Week"
   ]
  },
  {
   "cell_type": "code",
   "execution_count": null,
   "metadata": {},
   "outputs": [],
   "source": [
    "day_of_week_groups = data.groupby(['Day of Week'])\n",
    "day_of_week_df = day_of_week_groups.size().to_frame(name='# of accidents').reset_index()\n",
    "day_of_week_df.to_csv('output/day-of-week-all.csv')"
   ]
  },
  {
   "cell_type": "code",
   "execution_count": null,
   "metadata": {},
   "outputs": [],
   "source": [
    "day_of_week_df.sort_values(by=['# of accidents'], ascending=False).head(7)"
   ]
  },
  {
   "cell_type": "markdown",
   "metadata": {},
   "source": [
    "#### Bicycles"
   ]
  },
  {
   "cell_type": "code",
   "execution_count": null,
   "metadata": {},
   "outputs": [],
   "source": [
    "day_of_week_groups_bicycle = bicycle_data.groupby(['Day of Week'])\n",
    "day_of_week_bicycle_df = day_of_week_groups_bicycle.size().to_frame(name='# of accidents').reset_index()\n",
    "day_of_week_bicycle_df.to_csv('output/day-of-week-bicycle.csv')"
   ]
  },
  {
   "cell_type": "code",
   "execution_count": null,
   "metadata": {},
   "outputs": [],
   "source": [
    "day_of_week_bicycle_df.sort_values(by=['# of accidents'], ascending=False).head(7)"
   ]
  },
  {
   "cell_type": "markdown",
   "metadata": {},
   "source": [
    "#### Pedestrians"
   ]
  },
  {
   "cell_type": "code",
   "execution_count": null,
   "metadata": {},
   "outputs": [],
   "source": [
    "day_of_week_groups_pedestrian = pedestrian_data.groupby(['Day of Week'])\n",
    "day_of_week_pedestrian_df = day_of_week_groups_pedestrian.size().to_frame(name='# of accidents').reset_index()\n",
    "day_of_week_pedestrian_df.to_csv('output/day-of-week-pedestrian.csv')"
   ]
  },
  {
   "cell_type": "code",
   "execution_count": null,
   "metadata": {},
   "outputs": [],
   "source": [
    "day_of_week_pedestrian_df.sort_values(by=['# of accidents'], ascending=False).head(7)"
   ]
  },
  {
   "cell_type": "markdown",
   "metadata": {},
   "source": [
    "### Hour of Day"
   ]
  },
  {
   "cell_type": "code",
   "execution_count": null,
   "metadata": {},
   "outputs": [],
   "source": [
    "time_ranges = pd.cut(data['Hour of Day'], [0, 4, 9, 13, 16, 20, 23], labels=['12am-5am', '5am-10am', '10am-1pm', '1pm-4pm', '4pm-8pm', '8pm-11:59pm'])"
   ]
  },
  {
   "cell_type": "code",
   "execution_count": null,
   "metadata": {},
   "outputs": [],
   "source": [
    "data['Time Range'] = time_ranges"
   ]
  },
  {
   "cell_type": "code",
   "execution_count": null,
   "metadata": {},
   "outputs": [],
   "source": [
    "time_range_groups = data.groupby(['Time Range'])\n",
    "time_range_df = time_range_groups.size().to_frame(name=\"# of accidents\").reset_index()\n",
    "time_range_df.to_csv('output/time-ranges-all.csv')"
   ]
  },
  {
   "cell_type": "markdown",
   "metadata": {},
   "source": [
    "#### Bicycles"
   ]
  },
  {
   "cell_type": "code",
   "execution_count": null,
   "metadata": {},
   "outputs": [],
   "source": [
    "bicycle_time_ranges = pd.cut(bicycle_data['Hour of Day'], [0, 4, 9, 13, 16, 20, 23], labels=['12am-5am', '5am-10am', '10am-1pm', '1pm-4pm', '4pm-8pm', '8pm-11:59pm'])\n",
    "bicycle_data['Time Range'] = bicycle_time_ranges"
   ]
  },
  {
   "cell_type": "code",
   "execution_count": null,
   "metadata": {},
   "outputs": [],
   "source": [
    "bicycle_time_range_groups = bicycle_data.groupby(['Time Range'])\n",
    "bicycle_time_range_df = bicycle_time_range_groups.size().to_frame(name=\"# of accidents\").reset_index()\n",
    "bicycle_time_range_df.to_csv('output/time-ranges-bicycles.csv')"
   ]
  },
  {
   "cell_type": "markdown",
   "metadata": {},
   "source": [
    "#### Pedestrians"
   ]
  },
  {
   "cell_type": "code",
   "execution_count": null,
   "metadata": {},
   "outputs": [],
   "source": [
    "pedestrian_time_ranges = pd.cut(pedestrian_data['Hour of Day'], [0, 4, 9, 13, 16, 20, 23], labels=['12am-5am', '5am-10am', '10am-1pm', '1pm-4pm', '4pm-8pm', '8pm-11:59pm'])\n",
    "pedestrian_data['Time Range'] = pedestrian_time_ranges"
   ]
  },
  {
   "cell_type": "code",
   "execution_count": null,
   "metadata": {},
   "outputs": [],
   "source": [
    "pedestrian_time_range_groups = pedestrian_data.groupby(['Time Range'])\n",
    "pedestrian_time_range_df = pedestrian_time_range_groups.size().to_frame(name=\"# of accidents\").reset_index()\n",
    "pedestrian_time_range_df.to_csv('output/time-ranges-pedestrians.csv')"
   ]
  },
  {
   "cell_type": "markdown",
   "metadata": {},
   "source": [
    "### How are they doing over time?"
   ]
  },
  {
   "cell_type": "code",
   "execution_count": null,
   "metadata": {},
   "outputs": [],
   "source": [
    "# Annual Datasets\n",
    "data_2010 = data[(data['Year'] == 2010)]\n",
    "data_2011 = data[(data['Year'] == 2011)]\n",
    "data_2012 = data[(data['Year'] == 2012)]\n",
    "data_2013 = data[(data['Year'] == 2013)]\n",
    "data_2014 = data[(data['Year'] == 2014)]\n",
    "data_2015 = data[(data['Year'] == 2015)]\n",
    "data_2016 = data[(data['Year'] == 2016)]\n",
    "data_2017 = data[(data['Year'] == 2017)]"
   ]
  },
  {
   "cell_type": "code",
   "execution_count": null,
   "metadata": {},
   "outputs": [],
   "source": [
    "accidents_by_day = data.groupby('Date').size()"
   ]
  },
  {
   "cell_type": "code",
   "execution_count": null,
   "metadata": {},
   "outputs": [],
   "source": [
    "accidents_by_day_df = accidents_by_day.to_frame(name='# of accidents').reset_index()"
   ]
  },
  {
   "cell_type": "code",
   "execution_count": null,
   "metadata": {},
   "outputs": [],
   "source": [
    "accidents_by_month = accidents_by_day.resample('M').sum()"
   ]
  },
  {
   "cell_type": "code",
   "execution_count": null,
   "metadata": {},
   "outputs": [],
   "source": [
    "accidents_by_year = accidents_by_day.resample('Y').sum()"
   ]
  },
  {
   "cell_type": "code",
   "execution_count": null,
   "metadata": {},
   "outputs": [],
   "source": [
    "accidents_by_day.sort_values(ascending=False).head()"
   ]
  },
  {
   "cell_type": "code",
   "execution_count": null,
   "metadata": {},
   "outputs": [],
   "source": [
    "accidents_by_day.plot()"
   ]
  },
  {
   "cell_type": "code",
   "execution_count": null,
   "metadata": {},
   "outputs": [],
   "source": [
    "accidents_by_month_df = accidents_by_month.to_frame(name='# of accidents').reset_index()\n",
    "accidents_by_month_df.sort_values(['# of accidents'], ascending=False).head(10)"
   ]
  },
  {
   "cell_type": "code",
   "execution_count": null,
   "metadata": {},
   "outputs": [],
   "source": [
    "accidents_by_month_df.to_csv('output/accidents-by-month-all.csv')"
   ]
  },
  {
   "cell_type": "code",
   "execution_count": null,
   "metadata": {},
   "outputs": [],
   "source": [
    "accidents_by_month_of_year = data.groupby('Month of Year').size()\n",
    "accidents_by_month_of_year_df = accidents_by_month_of_year.to_frame(name='# of accidents').reset_index()"
   ]
  },
  {
   "cell_type": "code",
   "execution_count": null,
   "metadata": {},
   "outputs": [],
   "source": [
    "accidents_by_month_of_year.sort_values(ascending=False).head(12)"
   ]
  },
  {
   "cell_type": "code",
   "execution_count": null,
   "metadata": {},
   "outputs": [],
   "source": [
    "accidents_by_month.plot()"
   ]
  },
  {
   "cell_type": "code",
   "execution_count": null,
   "metadata": {},
   "outputs": [],
   "source": [
    "accidents_by_year.sort_values(ascending=False).head(10)"
   ]
  },
  {
   "cell_type": "code",
   "execution_count": null,
   "metadata": {},
   "outputs": [],
   "source": [
    "accidents_by_year_groups = data.groupby('Year').size()\n",
    "accidents_by_year_df = accidents_by_year_groups.to_frame(name='# of accidents').reset_index()"
   ]
  },
  {
   "cell_type": "code",
   "execution_count": null,
   "metadata": {},
   "outputs": [],
   "source": [
    "accidents_by_year_df.sort_values(['# of accidents'], ascending=False).head(10)"
   ]
  },
  {
   "cell_type": "code",
   "execution_count": null,
   "metadata": {},
   "outputs": [],
   "source": [
    "accident_trend_plot_all = sns.regplot(accidents_by_year_df['Year'],accidents_by_year_df['# of accidents'])\n",
    "accident_trend_plot_all_figure = accident_trend_plot_all.get_figure()\n",
    "plt.savefig('output/accident_trend_plot_all.png')"
   ]
  },
  {
   "cell_type": "code",
   "execution_count": null,
   "metadata": {},
   "outputs": [],
   "source": [
    "accidents_by_year.plot()"
   ]
  },
  {
   "cell_type": "markdown",
   "metadata": {},
   "source": [
    "#### Bicycle Accidents over time"
   ]
  },
  {
   "cell_type": "code",
   "execution_count": null,
   "metadata": {},
   "outputs": [],
   "source": [
    "bicycle_accidents_by_day = bicycle_data.groupby('Date').size()"
   ]
  },
  {
   "cell_type": "code",
   "execution_count": null,
   "metadata": {},
   "outputs": [],
   "source": [
    "bicycle_accidents_by_month = bicycle_accidents_by_day.resample('M').sum()"
   ]
  },
  {
   "cell_type": "code",
   "execution_count": null,
   "metadata": {},
   "outputs": [],
   "source": [
    "bicycle_accidents_by_year = bicycle_accidents_by_day.resample('Y').sum()"
   ]
  },
  {
   "cell_type": "code",
   "execution_count": null,
   "metadata": {},
   "outputs": [],
   "source": [
    "bicycle_accidents_by_day.plot()"
   ]
  },
  {
   "cell_type": "code",
   "execution_count": null,
   "metadata": {},
   "outputs": [],
   "source": [
    "bicycle_accidents_by_month.plot()"
   ]
  },
  {
   "cell_type": "code",
   "execution_count": null,
   "metadata": {},
   "outputs": [],
   "source": [
    "bicycle_accidents_by_year.plot()"
   ]
  },
  {
   "cell_type": "code",
   "execution_count": null,
   "metadata": {},
   "outputs": [],
   "source": [
    "bicycle_accidents_by_year_groups = bicycle_data.groupby('Year').size()\n",
    "bicycle_accidents_by_year_df = bicycle_accidents_by_year_groups.to_frame(name='# of accidents').reset_index()"
   ]
  },
  {
   "cell_type": "code",
   "execution_count": null,
   "metadata": {},
   "outputs": [],
   "source": [
    "bicycle_accident_trend_plot_all = sns.regplot(bicycle_accidents_by_year_df['Year'],bicycle_accidents_by_year_df['# of accidents'])\n",
    "bicycle_accident_trend_plot_all_figure = bicycle_accident_trend_plot_all.get_figure()\n",
    "plt.savefig('output/accident_trend_plot_bicycle.png')"
   ]
  },
  {
   "cell_type": "markdown",
   "metadata": {},
   "source": [
    "#### Pedestrian Accidents over time"
   ]
  },
  {
   "cell_type": "code",
   "execution_count": null,
   "metadata": {},
   "outputs": [],
   "source": [
    "pedestrian_accidents_by_day = pedestrian_data.groupby('Date').size()"
   ]
  },
  {
   "cell_type": "code",
   "execution_count": null,
   "metadata": {},
   "outputs": [],
   "source": [
    "pedestrian_accidents_by_month = pedestrian_accidents_by_day.resample('M').sum()"
   ]
  },
  {
   "cell_type": "code",
   "execution_count": null,
   "metadata": {},
   "outputs": [],
   "source": [
    "pedestrian_accidents_by_year = pedestrian_accidents_by_day.resample('Y').sum()"
   ]
  },
  {
   "cell_type": "code",
   "execution_count": null,
   "metadata": {},
   "outputs": [],
   "source": [
    "pedestrian_accidents_by_day.plot()"
   ]
  },
  {
   "cell_type": "code",
   "execution_count": null,
   "metadata": {},
   "outputs": [],
   "source": [
    "pedestrian_accidents_by_month.plot()"
   ]
  },
  {
   "cell_type": "code",
   "execution_count": null,
   "metadata": {},
   "outputs": [],
   "source": [
    "pedestrian_accidents_by_year.plot()"
   ]
  },
  {
   "cell_type": "code",
   "execution_count": null,
   "metadata": {},
   "outputs": [],
   "source": [
    "pedestrian_accidents_by_year_groups = pedestrian_data.groupby('Year').size()\n",
    "pedestrian_accidents_by_year_df = pedestrian_accidents_by_year_groups.to_frame(name='# of accidents').reset_index()"
   ]
  },
  {
   "cell_type": "code",
   "execution_count": null,
   "metadata": {},
   "outputs": [],
   "source": [
    "pedestrian_accident_trend_plot_all = sns.regplot(pedestrian_accidents_by_year_df['Year'],pedestrian_accidents_by_year_df['# of accidents'])\n",
    "pedestrian_accident_trend_plot_all_figure = pedestrian_accident_trend_plot_all.get_figure()\n",
    "plt.savefig('output/accident_trend_plot_pedestrian.png')"
   ]
  },
  {
   "cell_type": "markdown",
   "metadata": {},
   "source": [
    "## Map Data"
   ]
  },
  {
   "cell_type": "code",
   "execution_count": null,
   "metadata": {},
   "outputs": [],
   "source": [
    "# all accidents\n",
    "df_to_geojson(data, filename='output/all_accidents.geojson',\n",
    "              properties=['Object 1', 'Object 2', 'Day of Week', 'Year', 'Bicycle Involved', 'Pedestrian Involved', 'No Bike or Pedestrian Involved'],\n",
    "              lat='Latitude', lon='Longitude', precision=7)"
   ]
  },
  {
   "cell_type": "markdown",
   "metadata": {},
   "source": [
    "## Some things noticed:\n",
    "* Big drop in all accidents in 2014, less accidents? or worse reporting?\n",
    "* Big spike in all accidents in 2015, reporting change? or actual increase? or making up for 2014?\n",
    "    * weather related, big spike was February of 2015 when the area had major snow storms\n",
    "* Large number of reported accident coordinates are City Hall, likely what's used when it's not reported or not accurately reported"
   ]
  },
  {
   "cell_type": "markdown",
   "metadata": {},
   "source": [
    "## Considerations:\n",
    "* Reporting issues:\n",
    "    * data is a bit messy, could be a general reflection on in-accuracy of reporting\n",
    "    * it's possible there is bias in what accidents are reported and when"
   ]
  },
  {
   "cell_type": "markdown",
   "metadata": {},
   "source": [
    "## Future Work\n",
    "* Figure out the denominator, i.e. better comparison of locations by looking at accident frequency AND amount of traffic in across locations\n",
    "* Is it predictable? How likely can you predict accidents based on historical data?"
   ]
  },
  {
   "cell_type": "code",
   "execution_count": null,
   "metadata": {},
   "outputs": [],
   "source": []
  }
 ],
 "metadata": {
  "kernelspec": {
   "display_name": "Python 3",
   "language": "python",
   "name": "python3"
  },
  "language_info": {
   "codemirror_mode": {
    "name": "ipython",
    "version": 3
   },
   "file_extension": ".py",
   "mimetype": "text/x-python",
   "name": "python",
   "nbconvert_exporter": "python",
   "pygments_lexer": "ipython3",
   "version": "3.6.4"
  }
 },
 "nbformat": 4,
 "nbformat_minor": 2
}
